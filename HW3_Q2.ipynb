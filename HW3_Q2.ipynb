{
  "cells": [
    {
      "cell_type": "code",
      "execution_count": null,
      "metadata": {
        "id": "jqHUnmbyAn3o",
        "outputId": "916024f5-f6a1-4145-b326-ae4f6b13961d",
        "colab": {
          "base_uri": "https://localhost:8080/"
        }
      },
      "outputs": [
        {
          "output_type": "execute_result",
          "data": {
            "text/plain": [
              "<torch._C.Generator at 0x7f591c4dced0>"
            ]
          },
          "metadata": {},
          "execution_count": 1
        }
      ],
      "source": [
        "%matplotlib inline\n",
        "from matplotlib import pyplot as plt\n",
        "import numpy as np\n",
        "import collections\n",
        "\n",
        "import torch\n",
        "import torch.nn as nn\n",
        "import torch.nn.functional as F\n",
        "import torch.optim as optim\n",
        "\n",
        "torch.set_printoptions(edgeitems=2)\n",
        "torch.manual_seed(123)"
      ]
    },
    {
      "cell_type": "code",
      "execution_count": null,
      "metadata": {
        "id": "78gLvbMwAn3y"
      },
      "outputs": [],
      "source": [
        "class_names = ['airplane','automobile','bird','cat','deer',\n",
        "               'dog','frog','horse','ship','truck']"
      ]
    },
    {
      "cell_type": "code",
      "execution_count": null,
      "metadata": {
        "id": "GXZVzTIhAn3z",
        "outputId": "9acfaf33-e95d-4fd4-bc82-7cf479e44016",
        "colab": {
          "base_uri": "https://localhost:8080/",
          "height": 82,
          "referenced_widgets": [
            "e44deec5a0754411b4393843b2389f6a",
            "4ff8f0156b1f4186a3805090113cc238",
            "e6500fa3c53246e8ad22f1effb9f484e",
            "2dffdecf36334706ba006171a24fe4b8",
            "46a41a059c75417ba2c1d97930f0e855",
            "df30a3d3a0ac46ccbde46c70326abdd4",
            "edcf81400ec74aed8854df210bf2e3d7",
            "0080a152b11d4cb3a11a28f0c2abcddf",
            "8937fcae25a54133a07bf3340146ed0a",
            "46e01f6176a94347808535548e7f35b5",
            "cae76f0c432b42ffaf345b0049d0e184"
          ]
        }
      },
      "outputs": [
        {
          "output_type": "stream",
          "name": "stdout",
          "text": [
            "Downloading https://www.cs.toronto.edu/~kriz/cifar-10-python.tar.gz to ../data-unversioned/p1ch6/cifar-10-python.tar.gz\n"
          ]
        },
        {
          "output_type": "display_data",
          "data": {
            "text/plain": [
              "  0%|          | 0/170498071 [00:00<?, ?it/s]"
            ],
            "application/vnd.jupyter.widget-view+json": {
              "version_major": 2,
              "version_minor": 0,
              "model_id": "e44deec5a0754411b4393843b2389f6a"
            }
          },
          "metadata": {}
        },
        {
          "output_type": "stream",
          "name": "stdout",
          "text": [
            "Extracting ../data-unversioned/p1ch6/cifar-10-python.tar.gz to ../data-unversioned/p1ch6/\n"
          ]
        }
      ],
      "source": [
        "from torchvision import datasets, transforms\n",
        "data_path = '../data-unversioned/p1ch6/'\n",
        "cifar10 = datasets.CIFAR10(\n",
        "    data_path, train=True, download=True,\n",
        "    transform=transforms.Compose([\n",
        "        transforms.ToTensor(),\n",
        "        transforms.Normalize((0.4915, 0.4823, 0.4468),\n",
        "                             (0.2470, 0.2435, 0.2616))\n",
        "    ]))"
      ]
    },
    {
      "cell_type": "code",
      "execution_count": null,
      "metadata": {
        "id": "yyfVtE3uAn31",
        "outputId": "4e3e6438-80ce-4935-d0e5-f614951764c6",
        "colab": {
          "base_uri": "https://localhost:8080/"
        }
      },
      "outputs": [
        {
          "output_type": "stream",
          "name": "stdout",
          "text": [
            "Files already downloaded and verified\n"
          ]
        }
      ],
      "source": [
        "cifar10_val = datasets.CIFAR10(\n",
        "    data_path, train=False, download=True,\n",
        "    transform=transforms.Compose([\n",
        "        transforms.ToTensor(),\n",
        "        transforms.Normalize((0.4915, 0.4823, 0.4468),\n",
        "                             (0.2470, 0.2435, 0.2616))\n",
        "    ]))"
      ]
    },
    {
      "cell_type": "code",
      "execution_count": null,
      "metadata": {
        "id": "Em-CM1r0An34"
      },
      "outputs": [],
      "source": [
        "label_map = {0: 0, 2: 1}\n",
        "class_names = ['airplane', 'bird']\n",
        "cifar2 = [(img, label_map[label])\n",
        "          for img, label in cifar10\n",
        "          if label in [0, 2]]\n",
        "cifar2_val = [(img, label_map[label])\n",
        "              for img, label in cifar10_val\n",
        "              if label in [0, 2]]"
      ]
    },
    {
      "cell_type": "code",
      "execution_count": null,
      "metadata": {
        "id": "Rg-8kwtgAn35"
      },
      "outputs": [],
      "source": [
        "connected_model = nn.Sequential(\n",
        "            nn.Linear(3072, 1024),\n",
        "            nn.Tanh(),\n",
        "            nn.Linear(1024, 512),\n",
        "            nn.Tanh(),\n",
        "            nn.Linear(512, 128),\n",
        "            nn.Tanh(),\n",
        "            nn.Linear(128, 2))"
      ]
    },
    {
      "cell_type": "code",
      "execution_count": null,
      "metadata": {
        "id": "V59p2os3An37",
        "outputId": "97dde738-c51b-4664-ab04-66210b701367",
        "colab": {
          "base_uri": "https://localhost:8080/"
        }
      },
      "outputs": [
        {
          "output_type": "execute_result",
          "data": {
            "text/plain": [
              "(3737474, [3145728, 1024, 524288, 512, 65536, 128, 256, 2])"
            ]
          },
          "metadata": {},
          "execution_count": 7
        }
      ],
      "source": [
        "numel_list = [p.numel()\n",
        "              for p in connected_model.parameters()\n",
        "              if p.requires_grad == True]\n",
        "sum(numel_list), numel_list"
      ]
    },
    {
      "cell_type": "code",
      "execution_count": null,
      "metadata": {
        "id": "tztQwgpDAn38"
      },
      "outputs": [],
      "source": [
        "first_model = nn.Sequential(\n",
        "                nn.Linear(3072, 512),\n",
        "                nn.Tanh(),\n",
        "                nn.Linear(512, 2),\n",
        "                nn.LogSoftmax(dim=1))"
      ]
    },
    {
      "cell_type": "code",
      "execution_count": null,
      "metadata": {
        "id": "jH5whAUcAn39",
        "outputId": "f68d1e08-6f7e-4ce5-f2b6-b0c167fb48ed",
        "colab": {
          "base_uri": "https://localhost:8080/"
        }
      },
      "outputs": [
        {
          "output_type": "execute_result",
          "data": {
            "text/plain": [
              "(1574402, [1572864, 512, 1024, 2])"
            ]
          },
          "metadata": {},
          "execution_count": 9
        }
      ],
      "source": [
        "numel_list = [p.numel() for p in first_model.parameters()]\n",
        "sum(numel_list), numel_list"
      ]
    },
    {
      "cell_type": "code",
      "execution_count": null,
      "metadata": {
        "id": "YXeB_nTCAn3_",
        "outputId": "ece4de30-ffb7-4929-f133-a4fe448bf0fa",
        "colab": {
          "base_uri": "https://localhost:8080/"
        }
      },
      "outputs": [
        {
          "output_type": "execute_result",
          "data": {
            "text/plain": [
              "(torch.Size([1024, 3072]), torch.Size([1024]))"
            ]
          },
          "metadata": {},
          "execution_count": 10
        }
      ],
      "source": [
        "linear = nn.Linear(3072, 1024)\n",
        "\n",
        "linear.weight.shape, linear.bias.shape"
      ]
    },
    {
      "cell_type": "code",
      "execution_count": null,
      "metadata": {
        "id": "M5Rdq8AKAn4F",
        "outputId": "f7561333-d389-45ee-d142-8682e1b2f944",
        "colab": {
          "base_uri": "https://localhost:8080/"
        }
      },
      "outputs": [
        {
          "output_type": "execute_result",
          "data": {
            "text/plain": [
              "Conv2d(3, 16, kernel_size=(3, 3), stride=(1, 1))"
            ]
          },
          "metadata": {},
          "execution_count": 11
        }
      ],
      "source": [
        "conv = nn.Conv2d(3, 16, kernel_size=3) # <1>\n",
        "conv"
      ]
    },
    {
      "cell_type": "code",
      "execution_count": null,
      "metadata": {
        "id": "VHZXtpsCAn4I",
        "outputId": "e69dfdd5-6022-40f5-be79-d3b09da34114",
        "colab": {
          "base_uri": "https://localhost:8080/"
        }
      },
      "outputs": [
        {
          "output_type": "execute_result",
          "data": {
            "text/plain": [
              "(torch.Size([16, 3, 3, 3]), torch.Size([16]))"
            ]
          },
          "metadata": {},
          "execution_count": 12
        }
      ],
      "source": [
        "conv.weight.shape, conv.bias.shape"
      ]
    },
    {
      "cell_type": "code",
      "execution_count": null,
      "metadata": {
        "id": "nb8BjI15An4J",
        "outputId": "05a7f525-7207-4f38-df06-c5b2243de1d4",
        "colab": {
          "base_uri": "https://localhost:8080/"
        }
      },
      "outputs": [
        {
          "output_type": "execute_result",
          "data": {
            "text/plain": [
              "(torch.Size([1, 3, 32, 32]), torch.Size([1, 16, 30, 30]))"
            ]
          },
          "metadata": {},
          "execution_count": 13
        }
      ],
      "source": [
        "img, _ = cifar2[0]\n",
        "output = conv(img.unsqueeze(0))\n",
        "img.unsqueeze(0).shape, output.shape"
      ]
    },
    {
      "cell_type": "code",
      "execution_count": null,
      "metadata": {
        "id": "kFuVbRhCAn4L",
        "outputId": "eb7dfc3a-f19a-42cc-d410-9a21de5a8d98",
        "colab": {
          "base_uri": "https://localhost:8080/",
          "height": 264
        }
      },
      "outputs": [
        {
          "output_type": "display_data",
          "data": {
            "text/plain": [
              "<Figure size 432x288 with 1 Axes>"
            ],
            "image/png": "[encoded data removed]"
          },
          "metadata": {
            "needs_background": "light"
          }
        }
      ],
      "source": [
        "plt.imshow(img.mean(0), cmap='gray')\n",
        "plt.show()"
      ]
    },
    {
      "cell_type": "code",
      "execution_count": null,
      "metadata": {
        "id": "WobDwteNAn4M",
        "outputId": "846fc77f-f3f9-405e-fb5f-b531422552f3",
        "colab": {
          "base_uri": "https://localhost:8080/",
          "height": 316
        }
      },
      "outputs": [
        {
          "output_type": "display_data",
          "data": {
            "text/plain": [
              "<Figure size 720x345.6 with 2 Axes>"
            ],
            "image/png": "[encoded data removed]"
          },
          "metadata": {
            "needs_background": "light"
          }
        }
      ],
      "source": [
        "plt.figure(figsize=(10, 4.8))  # bookskip\n",
        "ax1 = plt.subplot(1, 2, 1)   # bookskip\n",
        "plt.title('output')   # bookskip\n",
        "plt.imshow(output[0, 0].detach(), cmap='gray')\n",
        "plt.subplot(1, 2, 2, sharex=ax1, sharey=ax1)  # bookskip\n",
        "plt.imshow(img.mean(0), cmap='gray')  # bookskip\n",
        "plt.title('input')  # bookskip\n",
        "plt.savefig('Ch8_F2_PyTorch.png')  # bookskip\n",
        "plt.show()"
      ]
    },
    {
      "cell_type": "code",
      "execution_count": null,
      "metadata": {
        "id": "lJ-bXrKxAn4N",
        "outputId": "4d753e61-e1d2-4f3d-9fd2-99e0562d6775",
        "colab": {
          "base_uri": "https://localhost:8080/"
        }
      },
      "outputs": [
        {
          "output_type": "execute_result",
          "data": {
            "text/plain": [
              "(torch.Size([1, 3, 32, 32]), torch.Size([1, 1, 32, 32]))"
            ]
          },
          "metadata": {},
          "execution_count": 16
        }
      ],
      "source": [
        "conv = nn.Conv2d(3, 1, kernel_size=3, padding=1) # <1>\n",
        "output = conv(img.unsqueeze(0))\n",
        "img.unsqueeze(0).shape, output.shape"
      ]
    },
    {
      "cell_type": "code",
      "execution_count": null,
      "metadata": {
        "id": "YT5IVOi_An4O"
      },
      "outputs": [],
      "source": [
        "with torch.no_grad():\n",
        "    conv.bias.zero_()\n",
        "    \n",
        "with torch.no_grad():\n",
        "    conv.weight.fill_(1.0 / 9.0)"
      ]
    },
    {
      "cell_type": "code",
      "execution_count": null,
      "metadata": {
        "id": "OIUS3ZRtAn4O",
        "outputId": "2439cc14-23b0-4b15-ffea-0f9efd091ed2",
        "colab": {
          "base_uri": "https://localhost:8080/",
          "height": 316
        }
      },
      "outputs": [
        {
          "output_type": "display_data",
          "data": {
            "text/plain": [
              "<Figure size 720x345.6 with 2 Axes>"
            ],
            "image/png": "[encoded data removed]"
          },
          "metadata": {
            "needs_background": "light"
          }
        }
      ],
      "source": [
        "output = conv(img.unsqueeze(0))\n",
        "plt.figure(figsize=(10, 4.8))  # bookskip\n",
        "ax1 = plt.subplot(1, 2, 1)   # bookskip\n",
        "plt.title('output')   # bookskip\n",
        "plt.imshow(output[0, 0].detach(), cmap='gray')\n",
        "plt.subplot(1, 2, 2, sharex=ax1, sharey=ax1)  # bookskip\n",
        "plt.imshow(img.mean(0), cmap='gray')  # bookskip\n",
        "plt.title('input')  # bookskip\n",
        "plt.savefig('Ch8_F4_PyTorch.png')  # bookskip\n",
        "plt.show()"
      ]
    },
    {
      "cell_type": "code",
      "execution_count": null,
      "metadata": {
        "id": "O8YS5j_uAn4S"
      },
      "outputs": [],
      "source": [
        "conv = nn.Conv2d(3, 1, kernel_size=3, padding=1)\n",
        "\n",
        "with torch.no_grad():\n",
        "    conv.weight[:] = torch.tensor([[-1.0, 0.0, 1.0],\n",
        "                                   [-1.0, 0.0, 1.0],\n",
        "                                   [-1.0, 0.0, 1.0]])\n",
        "    conv.bias.zero_()"
      ]
    },
    {
      "cell_type": "code",
      "execution_count": null,
      "metadata": {
        "id": "qtd8Ye3ZAn4S",
        "outputId": "6e058e98-7883-40e8-d6f6-a558cd9942b3",
        "colab": {
          "base_uri": "https://localhost:8080/",
          "height": 316
        }
      },
      "outputs": [
        {
          "output_type": "display_data",
          "data": {
            "text/plain": [
              "<Figure size 720x345.6 with 2 Axes>"
            ],
            "image/png": "[encoded data removed]"
          },
          "metadata": {
            "needs_background": "light"
          }
        }
      ],
      "source": [
        "output = conv(img.unsqueeze(0))\n",
        "plt.figure(figsize=(10, 4.8))  # bookskip\n",
        "ax1 = plt.subplot(1, 2, 1)   # bookskip\n",
        "plt.title('output')   # bookskip\n",
        "plt.imshow(output[0, 0].detach(), cmap='gray')\n",
        "plt.subplot(1, 2, 2, sharex=ax1, sharey=ax1)  # bookskip\n",
        "plt.imshow(img.mean(0), cmap='gray')  # bookskip\n",
        "plt.title('input')  # bookskip\n",
        "plt.savefig('Ch8_F5_PyTorch.png')  # bookskip\n",
        "plt.show()"
      ]
    },
    {
      "cell_type": "code",
      "execution_count": null,
      "metadata": {
        "id": "V351s-0TAn4T",
        "outputId": "972627c5-511d-4582-eeab-74baaa111b84",
        "colab": {
          "base_uri": "https://localhost:8080/"
        }
      },
      "outputs": [
        {
          "output_type": "execute_result",
          "data": {
            "text/plain": [
              "(torch.Size([1, 3, 32, 32]), torch.Size([1, 3, 16, 16]))"
            ]
          },
          "metadata": {},
          "execution_count": 21
        }
      ],
      "source": [
        "pool = nn.MaxPool2d(2)\n",
        "output = pool(img.unsqueeze(0))\n",
        "\n",
        "img.unsqueeze(0).shape, output.shape"
      ]
    },
    {
      "cell_type": "code",
      "execution_count": null,
      "metadata": {
        "id": "8qA7CH-3An4T"
      },
      "outputs": [],
      "source": [
        "model = nn.Sequential(\n",
        "            nn.Conv2d(3, 16, kernel_size=3, padding=1),\n",
        "            nn.Tanh(),\n",
        "            nn.MaxPool2d(2),\n",
        "            nn.Conv2d(16, 8, kernel_size=3, padding=1),\n",
        "            nn.Tanh(),\n",
        "            nn.MaxPool2d(2),\n",
        "            # ...\n",
        "            )"
      ]
    },
    {
      "cell_type": "code",
      "execution_count": null,
      "metadata": {
        "id": "vySdkuoXAn4W"
      },
      "outputs": [],
      "source": [
        "model = nn.Sequential(\n",
        "            nn.Conv2d(3, 16, kernel_size=3, padding=1),\n",
        "            nn.Tanh(),\n",
        "            nn.MaxPool2d(2),\n",
        "            nn.Conv2d(16, 8, kernel_size=3, padding=1),\n",
        "            nn.Tanh(),\n",
        "            nn.MaxPool2d(2),\n",
        "            # ... <1>\n",
        "            nn.Linear(8 * 8 * 8, 32),\n",
        "            nn.Tanh(),\n",
        "            nn.Linear(32, 2))"
      ]
    },
    {
      "cell_type": "code",
      "execution_count": null,
      "metadata": {
        "id": "71teuU60An4X",
        "outputId": "8b732376-f669-4758-c749-fd7ad2055a9e",
        "colab": {
          "base_uri": "https://localhost:8080/"
        }
      },
      "outputs": [
        {
          "output_type": "execute_result",
          "data": {
            "text/plain": [
              "(18090, [432, 16, 1152, 8, 16384, 32, 64, 2])"
            ]
          },
          "metadata": {},
          "execution_count": 24
        }
      ],
      "source": [
        "numel_list = [p.numel() for p in model.parameters()]\n",
        "sum(numel_list), numel_list"
      ]
    },
    {
      "cell_type": "code",
      "execution_count": null,
      "metadata": {
        "id": "ZfVB0RQIAn4b"
      },
      "outputs": [],
      "source": [
        "class Net(nn.Module):\n",
        "    def __init__(self):\n",
        "        super().__init__()\n",
        "        self.conv1 = nn.Conv2d(3, 16, kernel_size=3, padding=1)\n",
        "        self.act1 = nn.Tanh()\n",
        "        self.pool1 = nn.MaxPool2d(2)\n",
        "        self.conv2 = nn.Conv2d(16, 8, kernel_size=3, padding=1)\n",
        "        self.act2 = nn.Tanh()\n",
        "        self.pool2 = nn.MaxPool2d(2)\n",
        "        self.fc1 = nn.Linear(8 * 8 * 8, 32)\n",
        "        self.act3 = nn.Tanh()\n",
        "        self.fc2 = nn.Linear(32, 2)\n",
        "\n",
        "    def forward(self, x):\n",
        "        out = self.pool1(self.act1(self.conv1(x)))\n",
        "        out = self.pool2(self.act2(self.conv2(out)))\n",
        "        out = out.view(-1, 8 * 8 * 8) # <1>\n",
        "        out = self.act3(self.fc1(out))\n",
        "        out = self.fc2(out)\n",
        "        return out"
      ]
    },
    {
      "cell_type": "code",
      "execution_count": null,
      "metadata": {
        "id": "LMeH4-XLAn4d",
        "outputId": "bc5ef0c7-a288-43f9-8400-d6c248021cd6",
        "colab": {
          "base_uri": "https://localhost:8080/"
        }
      },
      "outputs": [
        {
          "output_type": "execute_result",
          "data": {
            "text/plain": [
              "(18090, [432, 16, 1152, 8, 16384, 32, 64, 2])"
            ]
          },
          "metadata": {},
          "execution_count": 26
        }
      ],
      "source": [
        "model = Net()\n",
        "\n",
        "numel_list = [p.numel() for p in model.parameters()]\n",
        "sum(numel_list), numel_list"
      ]
    },
    {
      "cell_type": "code",
      "execution_count": null,
      "metadata": {
        "id": "yL6XSUpYAn4e"
      },
      "outputs": [],
      "source": [
        "import torch.nn.functional as F\n",
        "\n",
        "class Net(nn.Module):\n",
        "    def __init__(self):\n",
        "        super().__init__()\n",
        "        self.conv1 = nn.Conv2d(3, 16, kernel_size=3, padding=1)\n",
        "        self.conv2 = nn.Conv2d(16, 8, kernel_size=3, padding=1)\n",
        "        self.fc1 = nn.Linear(8 * 8 * 8, 32)\n",
        "        self.fc2 = nn.Linear(32, 2)\n",
        "        \n",
        "    def forward(self, x):\n",
        "        out = F.max_pool2d(torch.tanh(self.conv1(x)), 2)\n",
        "        out = F.max_pool2d(torch.tanh(self.conv2(out)), 2)\n",
        "        out = out.view(-1, 8 * 8 * 8)\n",
        "        out = torch.tanh(self.fc1(out))\n",
        "        out = self.fc2(out)\n",
        "        return out"
      ]
    },
    {
      "cell_type": "code",
      "execution_count": null,
      "metadata": {
        "id": "mm5qvXEnAn4e",
        "outputId": "eac7c7d9-a2dd-4638-bf38-a6b38f5d0f7d",
        "colab": {
          "base_uri": "https://localhost:8080/"
        }
      },
      "outputs": [
        {
          "output_type": "execute_result",
          "data": {
            "text/plain": [
              "tensor([[-0.0157,  0.1143]], grad_fn=<AddmmBackward0>)"
            ]
          },
          "metadata": {},
          "execution_count": 28
        }
      ],
      "source": [
        "model = Net()\n",
        "model(img.unsqueeze(0))"
      ]
    },
    {
      "cell_type": "code",
      "execution_count": null,
      "metadata": {
        "id": "UjUklsT4An4f"
      },
      "outputs": [],
      "source": [
        "import datetime  # <1>\n",
        "\n",
        "def training_loop(n_epochs, optimizer, model, loss_fn, train_loader):\n",
        "    for epoch in range(1, n_epochs + 1):  # <2>\n",
        "        loss_train = 0.0\n",
        "        for imgs, labels in train_loader:  # <3>\n",
        "            \n",
        "            outputs = model(imgs)  # <4>\n",
        "            \n",
        "            loss = loss_fn(outputs, labels)  # <5>\n",
        "\n",
        "            optimizer.zero_grad()  # <6>\n",
        "            \n",
        "            loss.backward()  # <7>\n",
        "            \n",
        "            optimizer.step()  # <8>\n",
        "\n",
        "            loss_train += loss.item()  # <9>\n",
        "\n",
        "        if epoch == 1 or epoch % 10 == 0:\n",
        "            print('{} Epoch {}, Training loss {}'.format(\n",
        "                datetime.datetime.now(), epoch,\n",
        "                loss_train / len(train_loader)))  # <10>"
      ]
    },
    {
      "cell_type": "code",
      "execution_count": null,
      "metadata": {
        "id": "9sw9jj2DAn4f",
        "outputId": "0f5e128d-0c36-4d4a-bab2-5e432bfd3aa1",
        "colab": {
          "base_uri": "https://localhost:8080/"
        }
      },
      "outputs": [
        {
          "output_type": "stream",
          "name": "stdout",
          "text": [
            "2022-03-29 07:21:06.075340 Epoch 1, Training loss 0.56404867939129\n",
            "2022-03-29 07:21:40.210967 Epoch 10, Training loss 0.32760468742270377\n",
            "2022-03-29 07:22:18.045633 Epoch 20, Training loss 0.30307469284458527\n",
            "2022-03-29 07:22:57.114293 Epoch 30, Training loss 0.28098370514477894\n",
            "2022-03-29 07:23:34.937716 Epoch 40, Training loss 0.26119488620074693\n",
            "2022-03-29 07:24:12.865014 Epoch 50, Training loss 0.24396828690152259\n",
            "2022-03-29 07:24:51.129752 Epoch 60, Training loss 0.22478416324800746\n",
            "2022-03-29 07:25:29.109107 Epoch 70, Training loss 0.2053464343593379\n",
            "2022-03-29 07:26:07.232853 Epoch 80, Training loss 0.18890236574373429\n",
            "2022-03-29 07:26:45.078631 Epoch 90, Training loss 0.17473488685431754\n",
            "2022-03-29 07:27:22.833885 Epoch 100, Training loss 0.1615173067351815\n"
          ]
        }
      ],
      "source": [
        "train_loader = torch.utils.data.DataLoader(cifar2, batch_size=64,\n",
        "                                           shuffle=True)  # <1>\n",
        "\n",
        "model = Net()  #  <2>\n",
        "optimizer = optim.SGD(model.parameters(), lr=1e-2)  #  <3>\n",
        "loss_fn = nn.CrossEntropyLoss()  #  <4>\n",
        "\n",
        "training_loop(  # <5>\n",
        "    n_epochs = 100,\n",
        "    optimizer = optimizer,\n",
        "    model = model,\n",
        "    loss_fn = loss_fn,\n",
        "    train_loader = train_loader,\n",
        ")"
      ]
    },
    {
      "cell_type": "code",
      "execution_count": null,
      "metadata": {
        "id": "StYbYbCxAn4i",
        "outputId": "4aeb7e6f-2fd7-42a7-bd63-29c7e02daf7b",
        "colab": {
          "base_uri": "https://localhost:8080/"
        }
      },
      "outputs": [
        {
          "output_type": "stream",
          "name": "stdout",
          "text": [
            "Accuracy train: 0.94\n",
            "Accuracy val: 0.89\n"
          ]
        }
      ],
      "source": [
        "train_loader = torch.utils.data.DataLoader(cifar2, batch_size=64,\n",
        "                                           shuffle=False)\n",
        "val_loader = torch.utils.data.DataLoader(cifar2_val, batch_size=64,\n",
        "                                         shuffle=False)\n",
        "\n",
        "def validate(model, train_loader, val_loader):\n",
        "    for name, loader in [(\"train\", train_loader), (\"val\", val_loader)]:\n",
        "        correct = 0\n",
        "        total = 0\n",
        "\n",
        "        with torch.no_grad():  # <1>\n",
        "            for imgs, labels in loader:\n",
        "                outputs = model(imgs)\n",
        "                _, predicted = torch.max(outputs, dim=1) # <2>\n",
        "                total += labels.shape[0]  # <3>\n",
        "                correct += int((predicted == labels).sum())  # <4>\n",
        "\n",
        "        print(\"Accuracy {}: {:.2f}\".format(name , correct / total))\n",
        "\n",
        "validate(model, train_loader, val_loader)"
      ]
    },
    {
      "cell_type": "code",
      "execution_count": null,
      "metadata": {
        "id": "DPsIoWoSAn4j"
      },
      "outputs": [],
      "source": [
        "torch.save(model.state_dict(), data_path + 'birds_vs_airplanes.pt')"
      ]
    },
    {
      "cell_type": "code",
      "execution_count": null,
      "metadata": {
        "id": "xx5hkZDwAn4p",
        "outputId": "c0969681-ea97-45ea-a00f-17be8c01177d",
        "colab": {
          "base_uri": "https://localhost:8080/"
        }
      },
      "outputs": [
        {
          "output_type": "execute_result",
          "data": {
            "text/plain": [
              "<All keys matched successfully>"
            ]
          },
          "metadata": {},
          "execution_count": 33
        }
      ],
      "source": [
        "loaded_model = Net()  # <1>\n",
        "loaded_model.load_state_dict(torch.load(data_path\n",
        "                                        + 'birds_vs_airplanes.pt'))"
      ]
    },
    {
      "cell_type": "code",
      "execution_count": null,
      "metadata": {
        "id": "yQBB4GgzAn4w",
        "outputId": "8631c83b-b2c3-457e-e1df-6e7727018429",
        "colab": {
          "base_uri": "https://localhost:8080/"
        }
      },
      "outputs": [
        {
          "output_type": "stream",
          "name": "stdout",
          "text": [
            "Training on device cpu.\n"
          ]
        }
      ],
      "source": [
        "device = (torch.device('cuda') if torch.cuda.is_available()\n",
        "          else torch.device('cpu'))\n",
        "print(f\"Training on device {device}.\")"
      ]
    },
    {
      "cell_type": "code",
      "execution_count": null,
      "metadata": {
        "id": "CKZr7T3bAn4z"
      },
      "outputs": [],
      "source": [
        "import datetime\n",
        "\n",
        "def training_loop(n_epochs, optimizer, model, loss_fn, train_loader):\n",
        "    for epoch in range(1, n_epochs + 1):\n",
        "        loss_train = 0.0\n",
        "        for imgs, labels in train_loader:\n",
        "            imgs = imgs.to(device=device)  # <1>\n",
        "            labels = labels.to(device=device)\n",
        "            outputs = model(imgs)\n",
        "            loss = loss_fn(outputs, labels)\n",
        "\n",
        "            optimizer.zero_grad()\n",
        "            loss.backward()\n",
        "            optimizer.step()\n",
        "\n",
        "            loss_train += loss.item()\n",
        "\n",
        "        if epoch == 1 or epoch % 10 == 0:\n",
        "            print('{} Epoch {}, Training loss {}'.format(\n",
        "                datetime.datetime.now(), epoch,\n",
        "                loss_train / len(train_loader)))"
      ]
    },
    {
      "cell_type": "code",
      "execution_count": null,
      "metadata": {
        "id": "RNVLuPiDAn40",
        "outputId": "21b2ccc6-9e0a-4e90-e025-25f9a7e975c3",
        "colab": {
          "base_uri": "https://localhost:8080/"
        }
      },
      "outputs": [
        {
          "output_type": "stream",
          "name": "stdout",
          "text": [
            "2022-03-29 07:27:29.900853 Epoch 1, Training loss 0.5758678954877671\n",
            "2022-03-29 07:28:03.889320 Epoch 10, Training loss 0.3257184000151932\n",
            "2022-03-29 07:28:41.568789 Epoch 20, Training loss 0.2901871444028654\n",
            "2022-03-29 07:29:20.503242 Epoch 30, Training loss 0.26727779399437507\n",
            "2022-03-29 07:29:58.271904 Epoch 40, Training loss 0.24809301796422642\n",
            "2022-03-29 07:30:36.321445 Epoch 50, Training loss 0.22969360250955934\n",
            "2022-03-29 07:31:14.661436 Epoch 60, Training loss 0.21521258933149326\n",
            "2022-03-29 07:31:52.573301 Epoch 70, Training loss 0.19958703027694089\n",
            "2022-03-29 07:32:30.883838 Epoch 80, Training loss 0.18539653796773808\n",
            "2022-03-29 07:33:08.912729 Epoch 90, Training loss 0.16804252185259655\n",
            "2022-03-29 07:33:47.731089 Epoch 100, Training loss 0.15625751270040586\n"
          ]
        }
      ],
      "source": [
        "train_loader = torch.utils.data.DataLoader(cifar2, batch_size=64,\n",
        "                                           shuffle=True)\n",
        "\n",
        "model = Net().to(device=device)  # <1>\n",
        "optimizer = optim.SGD(model.parameters(), lr=1e-2)\n",
        "loss_fn = nn.CrossEntropyLoss()\n",
        "\n",
        "training_loop(\n",
        "    n_epochs = 100,\n",
        "    optimizer = optimizer,\n",
        "    model = model,\n",
        "    loss_fn = loss_fn,\n",
        "    train_loader = train_loader,\n",
        ")"
      ]
    },
    {
      "cell_type": "code",
      "execution_count": null,
      "metadata": {
        "id": "xzv76q67An41",
        "outputId": "96a00d63-36fd-4bb6-b02c-c43ff5527322",
        "colab": {
          "base_uri": "https://localhost:8080/"
        }
      },
      "outputs": [
        {
          "output_type": "stream",
          "name": "stdout",
          "text": [
            "Accuracy train: 0.92\n",
            "Accuracy val: 0.89\n"
          ]
        }
      ],
      "source": [
        "train_loader = torch.utils.data.DataLoader(cifar2, batch_size=64,\n",
        "                                           shuffle=False)\n",
        "val_loader = torch.utils.data.DataLoader(cifar2_val, batch_size=64,\n",
        "                                         shuffle=False)\n",
        "all_acc_dict = collections.OrderedDict()\n",
        "\n",
        "def validate(model, train_loader, val_loader):\n",
        "    accdict = {}\n",
        "    for name, loader in [(\"train\", train_loader), (\"val\", val_loader)]:\n",
        "        correct = 0\n",
        "        total = 0\n",
        "\n",
        "        with torch.no_grad():\n",
        "            for imgs, labels in loader:\n",
        "                imgs = imgs.to(device=device)\n",
        "                labels = labels.to(device=device)\n",
        "                outputs = model(imgs)\n",
        "                _, predicted = torch.max(outputs, dim=1) # <1>\n",
        "                total += labels.shape[0]\n",
        "                correct += int((predicted == labels).sum())\n",
        "\n",
        "        print(\"Accuracy {}: {:.2f}\".format(name , correct / total))\n",
        "        accdict[name] = correct / total\n",
        "    return accdict\n",
        "\n",
        "all_acc_dict[\"baseline\"] = validate(model, train_loader, val_loader)"
      ]
    },
    {
      "cell_type": "code",
      "execution_count": null,
      "metadata": {
        "id": "6leKdgwoAn4-",
        "outputId": "94e490fa-3ca6-40ea-dd61-fd53ef53f573",
        "colab": {
          "base_uri": "https://localhost:8080/"
        }
      },
      "outputs": [
        {
          "output_type": "execute_result",
          "data": {
            "text/plain": [
              "<All keys matched successfully>"
            ]
          },
          "metadata": {},
          "execution_count": 38
        }
      ],
      "source": [
        "loaded_model = Net().to(device=device)\n",
        "loaded_model.load_state_dict(torch.load(data_path\n",
        "                                        + 'birds_vs_airplanes.pt',\n",
        "                                        map_location=device))"
      ]
    },
    {
      "cell_type": "code",
      "execution_count": null,
      "metadata": {
        "id": "rXsih6K2An5A"
      },
      "outputs": [],
      "source": [
        "class NetWidth(nn.Module):\n",
        "    def __init__(self):\n",
        "        super().__init__()\n",
        "        self.conv1 = nn.Conv2d(3, 32, kernel_size=3, padding=1)\n",
        "        self.conv2 = nn.Conv2d(32, 16, kernel_size=3, padding=1)\n",
        "        self.fc1 = nn.Linear(16 * 8 * 8, 32)\n",
        "        self.fc2 = nn.Linear(32, 2)\n",
        "        \n",
        "    def forward(self, x):\n",
        "        out = F.max_pool2d(torch.tanh(self.conv1(x)), 2)\n",
        "        out = F.max_pool2d(torch.tanh(self.conv2(out)), 2)\n",
        "        out = out.view(-1, 16 * 8 * 8)\n",
        "        out = torch.tanh(self.fc1(out))\n",
        "        out = self.fc2(out)\n",
        "        return out"
      ]
    },
    {
      "cell_type": "code",
      "execution_count": null,
      "metadata": {
        "id": "CpRnLrLvAn5B",
        "outputId": "3faa3a09-9323-4124-b6e3-1ea6d66f6a43",
        "colab": {
          "base_uri": "https://localhost:8080/"
        }
      },
      "outputs": [
        {
          "output_type": "stream",
          "name": "stdout",
          "text": [
            "2022-03-29 07:33:58.984871 Epoch 1, Training loss 0.5593289512737541\n",
            "2022-03-29 07:35:10.998364 Epoch 10, Training loss 0.31846963058991035\n",
            "2022-03-29 07:36:30.555134 Epoch 20, Training loss 0.2762310531488649\n",
            "2022-03-29 07:37:50.337417 Epoch 30, Training loss 0.23907610897425632\n",
            "2022-03-29 07:39:09.440896 Epoch 40, Training loss 0.20703422012412623\n",
            "2022-03-29 07:40:28.562646 Epoch 50, Training loss 0.17928302126705267\n",
            "2022-03-29 07:41:48.298436 Epoch 60, Training loss 0.15465632137978913\n",
            "2022-03-29 07:43:07.382169 Epoch 70, Training loss 0.1318663319062655\n",
            "2022-03-29 07:44:27.093477 Epoch 80, Training loss 0.11067854893055691\n",
            "2022-03-29 07:45:46.098454 Epoch 90, Training loss 0.09152635851293613\n",
            "2022-03-29 07:47:05.383768 Epoch 100, Training loss 0.07484800901240224\n",
            "Accuracy train: 0.97\n",
            "Accuracy val: 0.90\n"
          ]
        },
        {
          "output_type": "execute_result",
          "data": {
            "text/plain": [
              "{'train': 0.9738, 'val': 0.8975}"
            ]
          },
          "metadata": {},
          "execution_count": 40
        }
      ],
      "source": [
        "model = NetWidth().to(device=device)\n",
        "optimizer = optim.SGD(model.parameters(), lr=1e-2)\n",
        "loss_fn = nn.CrossEntropyLoss()\n",
        "\n",
        "training_loop(\n",
        "    n_epochs = 100,\n",
        "    optimizer = optimizer,\n",
        "    model = model,\n",
        "    loss_fn = loss_fn,\n",
        "    train_loader = train_loader,\n",
        ")\n",
        "\n",
        "validate(model, train_loader, val_loader)"
      ]
    },
    {
      "cell_type": "code",
      "execution_count": null,
      "metadata": {
        "id": "4uDy9mzjAn5C"
      },
      "outputs": [],
      "source": [
        "class NetWidth(nn.Module):\n",
        "    def __init__(self, n_chans1=32):\n",
        "        super().__init__()\n",
        "        self.n_chans1 = n_chans1\n",
        "        self.conv1 = nn.Conv2d(3, n_chans1, kernel_size=3, padding=1)\n",
        "        self.conv2 = nn.Conv2d(n_chans1, n_chans1 // 2, kernel_size=3,\n",
        "                               padding=1)\n",
        "        self.fc1 = nn.Linear(8 * 8 * n_chans1 // 2, 32)\n",
        "        self.fc2 = nn.Linear(32, 2)\n",
        "        \n",
        "    def forward(self, x):\n",
        "        out = F.max_pool2d(torch.tanh(self.conv1(x)), 2)\n",
        "        out = F.max_pool2d(torch.tanh(self.conv2(out)), 2)\n",
        "        out = out.view(-1, 8 * 8 * self.n_chans1 // 2)\n",
        "        out = torch.tanh(self.fc1(out))\n",
        "        out = self.fc2(out)\n",
        "        return out\n"
      ]
    },
    {
      "cell_type": "code",
      "execution_count": null,
      "metadata": {
        "id": "0F-6jBIvAn5C",
        "outputId": "543c143a-0e66-4174-8277-602814ac0f2c",
        "colab": {
          "base_uri": "https://localhost:8080/"
        }
      },
      "outputs": [
        {
          "output_type": "stream",
          "name": "stdout",
          "text": [
            "2022-03-29 07:47:19.626923 Epoch 1, Training loss 0.5685800697393478\n",
            "2022-03-29 07:48:30.703155 Epoch 10, Training loss 0.3152090135463484\n",
            "2022-03-29 07:49:49.929780 Epoch 20, Training loss 0.2708921493238704\n",
            "2022-03-29 07:51:09.955037 Epoch 30, Training loss 0.23597988163589673\n",
            "2022-03-29 07:52:29.277208 Epoch 40, Training loss 0.20801835322076348\n",
            "2022-03-29 07:53:48.877113 Epoch 50, Training loss 0.18409615427635279\n",
            "2022-03-29 07:55:07.961862 Epoch 60, Training loss 0.1607339192585201\n",
            "2022-03-29 07:56:28.562885 Epoch 70, Training loss 0.1376176803449916\n",
            "2022-03-29 07:57:50.004338 Epoch 80, Training loss 0.11570272926881814\n",
            "2022-03-29 07:59:10.055200 Epoch 90, Training loss 0.09570155578671367\n",
            "2022-03-29 08:00:30.276047 Epoch 100, Training loss 0.07787015141954848\n",
            "Accuracy train: 0.97\n",
            "Accuracy val: 0.88\n"
          ]
        }
      ],
      "source": [
        "model = NetWidth(n_chans1=32).to(device=device)\n",
        "optimizer = optim.SGD(model.parameters(), lr=1e-2)\n",
        "loss_fn = nn.CrossEntropyLoss()\n",
        "\n",
        "training_loop(\n",
        "    n_epochs = 100,\n",
        "    optimizer = optimizer,\n",
        "    model = model,\n",
        "    loss_fn = loss_fn,\n",
        "    train_loader = train_loader,\n",
        ")\n",
        "\n",
        "all_acc_dict[\"width\"] = validate(model, train_loader, val_loader)"
      ]
    },
    {
      "cell_type": "code",
      "execution_count": null,
      "metadata": {
        "id": "0JBLFmMPAn5G",
        "outputId": "05d8d0fa-59e5-4cdd-a7e6-2a4dadeadb35",
        "colab": {
          "base_uri": "https://localhost:8080/"
        }
      },
      "outputs": [
        {
          "output_type": "execute_result",
          "data": {
            "text/plain": [
              "38386"
            ]
          },
          "metadata": {},
          "execution_count": 43
        }
      ],
      "source": [
        "sum(p.numel() for p in model.parameters())"
      ]
    },
    {
      "cell_type": "code",
      "execution_count": null,
      "metadata": {
        "id": "CKS1RYdAAn5H"
      },
      "outputs": [],
      "source": [
        "def training_loop_l2reg(n_epochs, optimizer, model, loss_fn,\n",
        "                        train_loader):\n",
        "    for epoch in range(1, n_epochs + 1):\n",
        "        loss_train = 0.0\n",
        "        for imgs, labels in train_loader:\n",
        "            imgs = imgs.to(device=device)\n",
        "            labels = labels.to(device=device)\n",
        "            outputs = model(imgs)\n",
        "            loss = loss_fn(outputs, labels)\n",
        "\n",
        "            l2_lambda = 0.001\n",
        "            l2_norm = sum(p.pow(2.0).sum()\n",
        "                          for p in model.parameters())  # <1>\n",
        "            loss = loss + l2_lambda * l2_norm\n",
        "\n",
        "            optimizer.zero_grad()\n",
        "            loss.backward()\n",
        "            optimizer.step()\n",
        "            \n",
        "            loss_train += loss.item()\n",
        "        if epoch == 1 or epoch % 10 == 0:\n",
        "            print('{} Epoch {}, Training loss {}'.format(\n",
        "                datetime.datetime.now(), epoch,\n",
        "                loss_train / len(train_loader)))\n"
      ]
    },
    {
      "cell_type": "code",
      "execution_count": null,
      "metadata": {
        "id": "WIe9x7PnAn5L",
        "outputId": "326558fb-d6fe-4cbd-e168-be5db5c879fd",
        "colab": {
          "base_uri": "https://localhost:8080/"
        }
      },
      "outputs": [
        {
          "output_type": "stream",
          "name": "stdout",
          "text": [
            "2022-03-29 08:00:40.647996 Epoch 1, Training loss 0.5981721646466832\n",
            "2022-03-29 08:01:16.742801 Epoch 10, Training loss 0.37438804604065645\n",
            "2022-03-29 08:01:56.345865 Epoch 20, Training loss 0.3343656416151934\n",
            "2022-03-29 08:02:36.355110 Epoch 30, Training loss 0.30822160374966395\n",
            "2022-03-29 08:03:15.864062 Epoch 40, Training loss 0.2882035382234367\n",
            "2022-03-29 08:03:55.250584 Epoch 50, Training loss 0.2720776597026047\n",
            "2022-03-29 08:04:34.567486 Epoch 60, Training loss 0.25801491727874537\n",
            "2022-03-29 08:05:14.180439 Epoch 70, Training loss 0.2454901358029645\n",
            "2022-03-29 08:05:53.827226 Epoch 80, Training loss 0.23410929141530565\n",
            "2022-03-29 08:06:33.491741 Epoch 90, Training loss 0.223826696823357\n",
            "2022-03-29 08:07:12.946603 Epoch 100, Training loss 0.2140570058944119\n",
            "Accuracy train: 0.92\n",
            "Accuracy val: 0.89\n"
          ]
        }
      ],
      "source": [
        "model = Net().to(device=device)\n",
        "optimizer = optim.SGD(model.parameters(), lr=1e-2)\n",
        "loss_fn = nn.CrossEntropyLoss()\n",
        "\n",
        "training_loop_l2reg(\n",
        "    n_epochs = 100,\n",
        "    optimizer = optimizer,\n",
        "    model = model,\n",
        "    loss_fn = loss_fn,\n",
        "    train_loader = train_loader,\n",
        ")\n",
        "all_acc_dict[\"l2 reg\"] = validate(model, train_loader, val_loader)"
      ]
    },
    {
      "cell_type": "code",
      "execution_count": null,
      "metadata": {
        "id": "ZaYyiTN3An5N"
      },
      "outputs": [],
      "source": [
        "class NetDropout(nn.Module):\n",
        "    def __init__(self, n_chans1=32):\n",
        "        super().__init__()\n",
        "        self.n_chans1 = n_chans1\n",
        "        self.conv1 = nn.Conv2d(3, n_chans1, kernel_size=3, padding=1)\n",
        "        self.conv1_dropout = nn.Dropout2d(p=0.4)\n",
        "        self.conv2 = nn.Conv2d(n_chans1, n_chans1 // 2, kernel_size=3,\n",
        "                               padding=1)\n",
        "        self.conv2_dropout = nn.Dropout2d(p=0.4)\n",
        "        self.fc1 = nn.Linear(8 * 8 * n_chans1 // 2, 32)\n",
        "        self.fc2 = nn.Linear(32, 2)\n",
        "        \n",
        "    def forward(self, x):\n",
        "        out = F.max_pool2d(torch.tanh(self.conv1(x)), 2)\n",
        "        out = self.conv1_dropout(out)\n",
        "        out = F.max_pool2d(torch.tanh(self.conv2(out)), 2)\n",
        "        out = self.conv2_dropout(out)\n",
        "        out = out.view(-1, 8 * 8 * self.n_chans1 // 2)\n",
        "        out = torch.tanh(self.fc1(out))\n",
        "        out = self.fc2(out)\n",
        "        return out"
      ]
    },
    {
      "cell_type": "code",
      "execution_count": null,
      "metadata": {
        "id": "Boj-uYlKAn5O",
        "outputId": "2109fd6a-c61e-4c0a-8acc-0e5237939e3f",
        "colab": {
          "base_uri": "https://localhost:8080/"
        }
      },
      "outputs": [
        {
          "output_type": "stream",
          "name": "stdout",
          "text": [
            "2022-03-29 08:07:24.234746 Epoch 1, Training loss 0.579869740138388\n",
            "2022-03-29 08:08:36.763684 Epoch 10, Training loss 0.38202764824697166\n",
            "2022-03-29 08:09:57.728971 Epoch 20, Training loss 0.3516532937242727\n",
            "2022-03-29 08:11:19.051988 Epoch 30, Training loss 0.33301091877518185\n",
            "2022-03-29 08:12:40.709173 Epoch 40, Training loss 0.3188648364346498\n",
            "2022-03-29 08:14:01.412543 Epoch 50, Training loss 0.3043141739953096\n",
            "2022-03-29 08:15:22.520579 Epoch 60, Training loss 0.2941651483819743\n",
            "2022-03-29 08:16:43.717577 Epoch 70, Training loss 0.2801524219429417\n",
            "2022-03-29 08:18:05.265623 Epoch 80, Training loss 0.26979605331542383\n",
            "2022-03-29 08:19:26.346656 Epoch 90, Training loss 0.26442282262501443\n",
            "2022-03-29 08:20:47.621343 Epoch 100, Training loss 0.2508305053042758\n",
            "Accuracy train: 0.90\n",
            "Accuracy val: 0.88\n"
          ]
        }
      ],
      "source": [
        "model = NetDropout(n_chans1=32).to(device=device)\n",
        "optimizer = optim.SGD(model.parameters(), lr=1e-2)\n",
        "loss_fn = nn.CrossEntropyLoss()\n",
        "\n",
        "training_loop(\n",
        "    n_epochs = 100,\n",
        "    optimizer = optimizer,\n",
        "    model = model,\n",
        "    loss_fn = loss_fn,\n",
        "    train_loader = train_loader,\n",
        ")\n",
        "all_acc_dict[\"dropout\"] = validate(model, train_loader, val_loader)"
      ]
    },
    {
      "cell_type": "code",
      "execution_count": null,
      "metadata": {
        "id": "cd2HTV5QAn5O"
      },
      "outputs": [],
      "source": [
        "class NetBatchNorm(nn.Module):\n",
        "    def __init__(self, n_chans1=32):\n",
        "        super().__init__()\n",
        "        self.n_chans1 = n_chans1\n",
        "        self.conv1 = nn.Conv2d(3, n_chans1, kernel_size=3, padding=1)\n",
        "        self.conv1_batchnorm = nn.BatchNorm2d(num_features=n_chans1)\n",
        "        self.conv2 = nn.Conv2d(n_chans1, n_chans1 // 2, kernel_size=3, \n",
        "                               padding=1)\n",
        "        self.conv2_batchnorm = nn.BatchNorm2d(num_features=n_chans1 // 2)\n",
        "        self.fc1 = nn.Linear(8 * 8 * n_chans1 // 2, 32)\n",
        "        self.fc2 = nn.Linear(32, 2)\n",
        "        \n",
        "    def forward(self, x):\n",
        "        out = self.conv1_batchnorm(self.conv1(x))\n",
        "        out = F.max_pool2d(torch.tanh(out), 2)\n",
        "        out = self.conv2_batchnorm(self.conv2(out))\n",
        "        out = F.max_pool2d(torch.tanh(out), 2)\n",
        "        out = out.view(-1, 8 * 8 * self.n_chans1 // 2)\n",
        "        out = torch.tanh(self.fc1(out))\n",
        "        out = self.fc2(out)\n",
        "        return out"
      ]
    },
    {
      "cell_type": "code",
      "execution_count": null,
      "metadata": {
        "id": "6RzetYk6An5O",
        "outputId": "f90ef8be-5af2-49de-b7d2-8f52f3462538",
        "colab": {
          "base_uri": "https://localhost:8080/"
        }
      },
      "outputs": [
        {
          "output_type": "stream",
          "name": "stdout",
          "text": [
            "2022-03-29 08:21:04.714154 Epoch 1, Training loss 0.46616254566581383\n",
            "2022-03-29 08:22:38.776535 Epoch 10, Training loss 0.2650941592303051\n",
            "2022-03-29 08:24:22.542969 Epoch 20, Training loss 0.20390467217583566\n",
            "2022-03-29 08:26:06.350299 Epoch 30, Training loss 0.15266545484684835\n",
            "2022-03-29 08:27:50.985056 Epoch 40, Training loss 0.10692262596148215\n",
            "2022-03-29 08:29:35.025841 Epoch 50, Training loss 0.07179549806247092\n",
            "2022-03-29 08:31:18.028118 Epoch 60, Training loss 0.0465511358847284\n",
            "2022-03-29 08:33:00.616574 Epoch 70, Training loss 0.03096476101144484\n",
            "2022-03-29 08:34:43.674169 Epoch 80, Training loss 0.018406441183108243\n",
            "2022-03-29 08:36:27.003646 Epoch 90, Training loss 0.013654453748137138\n",
            "2022-03-29 08:38:10.724231 Epoch 100, Training loss 0.008588963860028963\n",
            "Accuracy train: 0.99\n",
            "Accuracy val: 0.88\n"
          ]
        }
      ],
      "source": [
        "model = NetBatchNorm(n_chans1=32).to(device=device)\n",
        "optimizer = optim.SGD(model.parameters(), lr=1e-2)\n",
        "loss_fn = nn.CrossEntropyLoss()\n",
        "\n",
        "training_loop(\n",
        "    n_epochs = 100,\n",
        "    optimizer = optimizer,\n",
        "    model = model,\n",
        "    loss_fn = loss_fn,\n",
        "    train_loader = train_loader,\n",
        ")\n",
        "all_acc_dict[\"batch_norm\"] = validate(model, train_loader, val_loader)"
      ]
    },
    {
      "cell_type": "code",
      "execution_count": null,
      "metadata": {
        "id": "oc5IBvGWAn5R"
      },
      "outputs": [],
      "source": [
        "class NetDepth(nn.Module):\n",
        "    def __init__(self, n_chans1=32):\n",
        "        super().__init__()\n",
        "        self.n_chans1 = n_chans1\n",
        "        self.conv1 = nn.Conv2d(3, n_chans1, kernel_size=3, padding=1)\n",
        "        self.conv2 = nn.Conv2d(n_chans1, n_chans1 // 2, kernel_size=3,\n",
        "                               padding=1)\n",
        "        self.conv3 = nn.Conv2d(n_chans1 // 2, n_chans1 // 2,\n",
        "                               kernel_size=3, padding=1)\n",
        "        self.fc1 = nn.Linear(4 * 4 * n_chans1 // 2, 32)\n",
        "        self.fc2 = nn.Linear(32, 2)\n",
        "        \n",
        "    def forward(self, x):\n",
        "        out = F.max_pool2d(torch.relu(self.conv1(x)), 2)\n",
        "        out = F.max_pool2d(torch.relu(self.conv2(out)), 2)\n",
        "        out = F.max_pool2d(torch.relu(self.conv3(out)), 2)\n",
        "        out = out.view(-1, 4 * 4 * self.n_chans1 // 2)\n",
        "        out = torch.relu(self.fc1(out))\n",
        "        out = self.fc2(out)\n",
        "        return out"
      ]
    },
    {
      "cell_type": "code",
      "execution_count": null,
      "metadata": {
        "id": "a5WpvCruAn5Y",
        "outputId": "f43775fc-c0d1-4c9d-c483-f0741355ed41",
        "colab": {
          "base_uri": "https://localhost:8080/"
        }
      },
      "outputs": [
        {
          "output_type": "stream",
          "name": "stdout",
          "text": [
            "2022-03-29 08:38:26.661885 Epoch 1, Training loss 0.649131131779616\n",
            "2022-03-29 08:39:32.348180 Epoch 10, Training loss 0.3389467006656015\n",
            "2022-03-29 08:40:46.039304 Epoch 20, Training loss 0.3009200938947641\n",
            "2022-03-29 08:42:00.519667 Epoch 30, Training loss 0.2741433345967797\n",
            "2022-03-29 08:43:13.992351 Epoch 40, Training loss 0.24666463265753097\n",
            "2022-03-29 08:44:26.721992 Epoch 50, Training loss 0.21922197624756273\n",
            "2022-03-29 08:45:39.444095 Epoch 60, Training loss 0.1942977371868814\n",
            "2022-03-29 08:46:52.729982 Epoch 70, Training loss 0.16959006621674366\n",
            "2022-03-29 08:48:05.728448 Epoch 80, Training loss 0.14387731811707946\n",
            "2022-03-29 08:49:18.636296 Epoch 90, Training loss 0.1180535023854037\n",
            "2022-03-29 08:50:31.357436 Epoch 100, Training loss 0.09356123114087779\n",
            "Accuracy train: 0.95\n",
            "Accuracy val: 0.90\n"
          ]
        }
      ],
      "source": [
        "model = NetDepth(n_chans1=32).to(device=device)\n",
        "optimizer = optim.SGD(model.parameters(), lr=1e-2)\n",
        "loss_fn = nn.CrossEntropyLoss()\n",
        "\n",
        "training_loop(\n",
        "    n_epochs = 100,\n",
        "    optimizer = optimizer,\n",
        "    model = model,\n",
        "    loss_fn = loss_fn,\n",
        "    train_loader = train_loader,\n",
        ")\n",
        "all_acc_dict[\"depth\"] = validate(model, train_loader, val_loader)"
      ]
    },
    {
      "cell_type": "code",
      "execution_count": null,
      "metadata": {
        "id": "bfGDUatMAn5c"
      },
      "outputs": [],
      "source": [
        "class NetRes(nn.Module):\n",
        "    def __init__(self, n_chans1=32):\n",
        "        super().__init__()\n",
        "        self.n_chans1 = n_chans1\n",
        "        self.conv1 = nn.Conv2d(3, n_chans1, kernel_size=3, padding=1)\n",
        "        self.conv2 = nn.Conv2d(n_chans1, n_chans1 // 2, kernel_size=3,\n",
        "                               padding=1)\n",
        "        self.conv3 = nn.Conv2d(n_chans1 // 2, n_chans1 // 2,\n",
        "                               kernel_size=3, padding=1)\n",
        "        self.fc1 = nn.Linear(4 * 4 * n_chans1 // 2, 32)\n",
        "        self.fc2 = nn.Linear(32, 2)\n",
        "        \n",
        "    def forward(self, x):\n",
        "        out = F.max_pool2d(torch.relu(self.conv1(x)), 2)\n",
        "        out = F.max_pool2d(torch.relu(self.conv2(out)), 2)\n",
        "        out1 = out\n",
        "        out = F.max_pool2d(torch.relu(self.conv3(out)) + out1, 2)\n",
        "        out = out.view(-1, 4 * 4 * self.n_chans1 // 2)\n",
        "        out = torch.relu(self.fc1(out))\n",
        "        out = self.fc2(out)\n",
        "        return out"
      ]
    },
    {
      "cell_type": "code",
      "execution_count": null,
      "metadata": {
        "id": "YuHEjgabAn5c",
        "outputId": "c8471a91-e6b5-4723-89f8-cea017fc8316",
        "colab": {
          "base_uri": "https://localhost:8080/"
        }
      },
      "outputs": [
        {
          "output_type": "stream",
          "name": "stdout",
          "text": [
            "2022-03-29 08:50:43.771656 Epoch 1, Training loss 0.6562391132306141\n",
            "2022-03-29 08:51:49.749245 Epoch 10, Training loss 0.33166058314074376\n",
            "2022-03-29 08:53:03.092520 Epoch 20, Training loss 0.2858846590966935\n",
            "2022-03-29 08:54:16.215971 Epoch 30, Training loss 0.2535203736583898\n",
            "2022-03-29 08:55:28.552638 Epoch 40, Training loss 0.22732170168191765\n",
            "2022-03-29 08:56:41.298311 Epoch 50, Training loss 0.2033112903784035\n",
            "2022-03-29 08:57:54.511433 Epoch 60, Training loss 0.17990131562302827\n",
            "2022-03-29 08:59:07.141485 Epoch 70, Training loss 0.15666654888706602\n",
            "2022-03-29 09:00:19.559441 Epoch 80, Training loss 0.13204525819249974\n",
            "2022-03-29 09:01:31.790520 Epoch 90, Training loss 0.1064384968559833\n",
            "2022-03-29 09:02:43.886234 Epoch 100, Training loss 0.08305490934023052\n",
            "Accuracy train: 0.95\n",
            "Accuracy val: 0.89\n"
          ]
        }
      ],
      "source": [
        "model = NetRes(n_chans1=32).to(device=device)\n",
        "optimizer = optim.SGD(model.parameters(), lr=1e-2)\n",
        "loss_fn = nn.CrossEntropyLoss()\n",
        "\n",
        "training_loop(\n",
        "    n_epochs = 100,\n",
        "    optimizer = optimizer,\n",
        "    model = model,\n",
        "    loss_fn = loss_fn,\n",
        "    train_loader = train_loader,\n",
        ")\n",
        "all_acc_dict[\"res\"] = validate(model, train_loader, val_loader)"
      ]
    },
    {
      "cell_type": "code",
      "execution_count": null,
      "metadata": {
        "id": "zGlYrfULAn5d"
      },
      "outputs": [],
      "source": [
        "class ResBlock(nn.Module):\n",
        "    def __init__(self, n_chans):\n",
        "        super(ResBlock, self).__init__()\n",
        "        self.conv = nn.Conv2d(n_chans, n_chans, kernel_size=3,\n",
        "                              padding=1, bias=False)  # <1>\n",
        "        self.batch_norm = nn.BatchNorm2d(num_features=n_chans)\n",
        "        torch.nn.init.kaiming_normal_(self.conv.weight,\n",
        "                                      nonlinearity='relu')  # <2>\n",
        "        torch.nn.init.constant_(self.batch_norm.weight, 0.5)\n",
        "        torch.nn.init.zeros_(self.batch_norm.bias)\n",
        "\n",
        "    def forward(self, x):\n",
        "        out = self.conv(x)\n",
        "        out = self.batch_norm(out)\n",
        "        out = torch.relu(out)\n",
        "        return out + x"
      ]
    },
    {
      "cell_type": "code",
      "execution_count": null,
      "metadata": {
        "id": "yIB_u_dxAn5d"
      },
      "outputs": [],
      "source": [
        "class NetResDeep(nn.Module):\n",
        "    def __init__(self, n_chans1=32, n_blocks=10):\n",
        "        super().__init__()\n",
        "        self.n_chans1 = n_chans1\n",
        "        self.conv1 = nn.Conv2d(3, n_chans1, kernel_size=3, padding=1)\n",
        "        self.resblocks = nn.Sequential(\n",
        "            *(n_blocks * [ResBlock(n_chans=n_chans1)]))\n",
        "        self.fc1 = nn.Linear(8 * 8 * n_chans1, 32)\n",
        "        self.fc2 = nn.Linear(32, 2)\n",
        "        \n",
        "    def forward(self, x):\n",
        "        out = F.max_pool2d(torch.relu(self.conv1(x)), 2)\n",
        "        out = self.resblocks(out)\n",
        "        out = F.max_pool2d(out, 2)\n",
        "        out = out.view(-1, 8 * 8 * self.n_chans1)\n",
        "        out = torch.relu(self.fc1(out))\n",
        "        out = self.fc2(out)\n",
        "        return out\n",
        "    \n"
      ]
    },
    {
      "cell_type": "code",
      "execution_count": null,
      "metadata": {
        "id": "D0jfVk0EAn5e",
        "outputId": "77d256f3-4bf5-47ff-a680-eaa1bc3e4e8f",
        "colab": {
          "base_uri": "https://localhost:8080/"
        }
      },
      "outputs": [
        {
          "output_type": "stream",
          "name": "stdout",
          "text": [
            "2022-03-29 09:03:31.717172 Epoch 1, Training loss 0.49397034933612605\n",
            "2022-03-29 09:09:54.672804 Epoch 10, Training loss 0.25956880562244705\n",
            "2022-03-29 09:17:02.029219 Epoch 20, Training loss 0.17552080973508252\n",
            "2022-03-29 09:24:07.382972 Epoch 30, Training loss 0.10821379946580359\n",
            "2022-03-29 09:31:09.473476 Epoch 40, Training loss 0.04497870324760865\n",
            "2022-03-29 09:38:10.679484 Epoch 50, Training loss 0.020242445681030584\n",
            "2022-03-29 09:45:13.787621 Epoch 60, Training loss 0.010363050918895632\n",
            "2022-03-29 09:52:16.779984 Epoch 70, Training loss 0.006221803093542624\n",
            "2022-03-29 09:59:19.686577 Epoch 80, Training loss 0.004182260581381192\n",
            "2022-03-29 10:06:27.656043 Epoch 90, Training loss 0.0030398193841717045\n",
            "2022-03-29 10:13:30.538748 Epoch 100, Training loss 0.002332470344548606\n",
            "2022-03-29 10:20:34.121409 Epoch 110, Training loss 0.001864786856365835\n",
            "2022-03-29 10:27:40.597700 Epoch 120, Training loss 0.001534141844826614\n",
            "2022-03-29 10:34:42.911577 Epoch 130, Training loss 0.0013008150101526622\n",
            "2022-03-29 10:41:45.747093 Epoch 140, Training loss 0.001118847903436655\n",
            "2022-03-29 10:48:47.626187 Epoch 150, Training loss 0.0009791201375762984\n",
            "2022-03-29 10:55:50.309046 Epoch 160, Training loss 0.0008693360156308456\n",
            "2022-03-29 11:02:57.087564 Epoch 170, Training loss 0.0007780781551486676\n",
            "2022-03-29 11:10:00.228258 Epoch 180, Training loss 0.0007027280978505518\n",
            "2022-03-29 11:17:03.568762 Epoch 190, Training loss 0.0006395291774696819\n",
            "2022-03-29 11:24:07.647486 Epoch 200, Training loss 0.0005860920549833043\n",
            "2022-03-29 11:31:10.708684 Epoch 210, Training loss 0.0005402249713416454\n",
            "2022-03-29 11:38:12.530339 Epoch 220, Training loss 0.000499481912724567\n",
            "2022-03-29 11:45:13.993266 Epoch 230, Training loss 0.00046457354712320766\n",
            "2022-03-29 11:52:17.173861 Epoch 240, Training loss 0.00043359823831932466\n",
            "2022-03-29 11:59:21.147683 Epoch 250, Training loss 0.0004063202804147272\n",
            "2022-03-29 12:06:25.599348 Epoch 260, Training loss 0.0003818434660892435\n",
            "2022-03-29 12:13:27.929886 Epoch 270, Training loss 0.00036006624549760773\n",
            "2022-03-29 12:20:34.212106 Epoch 280, Training loss 0.0003399919778009236\n",
            "2022-03-29 12:27:40.111609 Epoch 290, Training loss 0.0003223814890322507\n",
            "2022-03-29 12:34:46.025812 Epoch 300, Training loss 0.00030581916470724235\n",
            "Accuracy train: 1.00\n",
            "Accuracy val: 0.88\n"
          ]
        }
      ],
      "source": [
        "m\n",
        "odel = NetResDeep(n_chans1=32, n_blocks=10).to(device=device)\n",
        "optimizer = optim.SGD(model.parameters(), lr=3e-3)\n",
        "loss_fn = nn.CrossEntropyLoss()\n",
        "\n",
        "training_loop(\n",
        "    n_epochs = 300,\n",
        "    optimizer = optimizer,\n",
        "    model = model,\n",
        "    loss_fn = loss_fn,\n",
        "    train_loader = train_loader,\n",
        ")\n",
        "all_acc_dict[\"res deep\"] = validate(model, train_loader, val_loader)"
      ]
    },
    {
      "cell_type": "code",
      "execution_count": null,
      "metadata": {
        "id": "ASL1elbAAn5f",
        "outputId": "3b14bc5a-0fca-42f7-ab69-3034a8193d71",
        "colab": {
          "base_uri": "https://localhost:8080/",
          "height": 315
        }
      },
      "outputs": [
        {
          "output_type": "display_data",
          "data": {
            "text/plain": [
              "<Figure size 432x288 with 1 Axes>"
            ],
            "image/png": "[encoded data removed]"
          },
          "metadata": {
            "needs_background": "light"
          }
        }
      ],
      "source": [
        "trn_acc = [v['train'] for k, v in all_acc_dict.items()]\n",
        "val_acc = [v['val'] for k, v in all_acc_dict.items()]\n",
        "\n",
        "width =0.3\n",
        "plt.bar(np.arange(len(trn_acc)), trn_acc, width=width, label='train')\n",
        "plt.bar(np.arange(len(val_acc))+ width, val_acc, width=width, label='val')\n",
        "plt.xticks(np.arange(len(val_acc))+ width/2, list(all_acc_dict.keys()),\n",
        "           rotation=60)\n",
        "plt.ylabel('accuracy')\n",
        "plt.legend(loc='lower right')\n",
        "plt.ylim(0.7, 1)\n",
        "plt.savefig('accuracy_comparison.png', bbox_inches='tight')\n",
        "plt.show()\n"
      ]
    },
    {
      "cell_type": "code",
      "source": [
        "def training_loop_decay(n_epochs, optimizer, model, loss_fn,\n",
        "                        train_loader):\n",
        "    for epoch in range(1, n_epochs + 1):\n",
        "        loss_train = 0.0\n",
        "        for imgs, labels in train_loader:\n",
        "            imgs = imgs.to(device=device)\n",
        "            labels = labels.to(device=device)\n",
        "            outputs = model(imgs)\n",
        "            loss = loss_fn(outputs, labels)\n",
        "\n",
        "            l2_lambda = 0.0001\n",
        "            l2_norm = sum(p.pow(2.0).sum()\n",
        "                          for p in model.parameters())  # <1>\n",
        "            loss = loss + l2_lambda * l2_norm\n",
        "\n",
        "            optimizer.zero_grad()\n",
        "            loss.backward()\n",
        "            optimizer.step()\n",
        "            \n",
        "            loss_train += loss.item()\n",
        "        if epoch == 1 or epoch % 10 == 0:\n",
        "            print('{} Epoch {}, Training loss {}'.format(\n",
        "                datetime.datetime.now(), epoch,\n",
        "                loss_train / len(train_loader)))"
      ],
      "metadata": {
        "id": "2KNCxIhJtogM"
      },
      "execution_count": null,
      "outputs": []
    },
    {
      "cell_type": "code",
      "source": [
        "model2 = NetResDeep(n_chans1=32, n_blocks=10).to(device=device)\n",
        "optimizer = optim.SGD(model2.parameters(), lr=0.1)\n",
        "loss_fn = nn.CrossEntropyLoss()\n",
        "\n",
        "training_loop(\n",
        "    n_epochs = 300,\n",
        "    optimizer = optimizer,\n",
        "    model = model2,\n",
        "    loss_fn = loss_fn,\n",
        "    train_loader = train_loader,\n",
        ")"
      ],
      "metadata": {
        "id": "MO29HXH8M8-b"
      },
      "execution_count": null,
      "outputs": []
    },
    {
      "cell_type": "code",
      "source": [
        "validate(model2, train_loader, val_loader)"
      ],
      "metadata": {
        "id": "q1bc5fnLM_r7"
      },
      "execution_count": null,
      "outputs": []
    },
    {
      "cell_type": "code",
      "source": [
        "class NetResDeep_drop(nn.Module):\n",
        "    def __init__(self, n_chans1=32, n_blocks=10):\n",
        "        super().__init__()\n",
        "        self.n_chans1 = n_chans1\n",
        "        self.conv1 = nn.Conv2d(3, n_chans1, kernel_size=3, padding=1)\n",
        "        self.conv1_dropout = nn.Dropout2d(p=0.3)\n",
        "        self.resblocks = nn.Sequential(\n",
        "            *(n_blocks * [ResBlock(n_chans=n_chans1)]))\n",
        "        \n",
        "        self.conv2_dropout = nn.Dropout2d(p=0.3)\n",
        "        self.fc1 = nn.Linear(8 * 8 * n_chans1, 32)\n",
        "        self.fc2 = nn.Linear(32, 10)\n",
        "        \n",
        "    def forward(self, x):\n",
        "        out = F.max_pool2d(torch.relu(self.conv1(x)), 2)\n",
        "        out = self.conv1_dropout(out)\n",
        "        out = self.resblocks(out)\n",
        "        out = F.max_pool2d(out, 2)\n",
        "        out = out.view(-1, 8 * 8 * self.n_chans1)\n",
        "        out = torch.relu(self.fc1(out))\n",
        "        out = self.fc2(out)\n",
        "        return out"
      ],
      "metadata": {
        "id": "FxrtykLnNCC-"
      },
      "execution_count": null,
      "outputs": []
    },
    {
      "cell_type": "code",
      "source": [
        "model3 = NetResDeep_drop(n_chans1=32, n_blocks=10).to(device=device)\n",
        "optimizer = optim.SGD(model3.parameters(), lr=0.1)\n",
        "loss_fn = nn.CrossEntropyLoss()\n",
        "\n",
        "training_loop(\n",
        "    n_epochs = 300,\n",
        "    optimizer = optimizer,\n",
        "    model = model3,\n",
        "    loss_fn = loss_fn,\n",
        "    train_loader = train_loader,\n",
        ")"
      ],
      "metadata": {
        "id": "w60J8kD3NFC8"
      },
      "execution_count": null,
      "outputs": []
    },
    {
      "cell_type": "code",
      "source": [
        "validate(model3, train_loader, val_loader)"
      ],
      "metadata": {
        "id": "WAloi0cbNIIv"
      },
      "execution_count": null,
      "outputs": []
    },
    {
      "cell_type": "code",
      "source": [
        "class ResBlock_BN(nn.Module):\n",
        "    def __init__(self, n_chans):\n",
        "        super(ResBlock, self).__init__()\n",
        "        self.conv = nn.Conv2d(n_chans, n_chans, kernel_size=3,\n",
        "                              padding=1, bias=False)  # <1>\n",
        "        self.batch_norm = nn.BatchNorm2d(num_features=n_chans)\n",
        "        torch.nn.init.kaiming_normal_(self.conv.weight,\n",
        "                                      nonlinearity='relu')  # <2>\n",
        "        torch.nn.init.constant_(self.batch_norm.weight, 0.5)\n",
        "        torch.nn.init.zeros_(self.batch_norm.bias)\n",
        "\n",
        "    def forward(self, x):\n",
        "        out = self.conv(x)\n",
        "        out = self.batch_norm(out)\n",
        "        out = torch.relu(out)\n",
        "        return out + x"
      ],
      "metadata": {
        "id": "0qLXxcyENLDq"
      },
      "execution_count": null,
      "outputs": []
    },
    {
      "cell_type": "code",
      "source": [
        "class NetResDeep_BN(nn.Module):\n",
        "    def __init__(self, n_chans1=32, n_blocks=10):\n",
        "        super().__init__()\n",
        "        self.n_chans1 = n_chans1\n",
        "        self.conv1 = nn.Conv2d(3, n_chans1, kernel_size=3, padding=1)\n",
        "        self.resblocks = nn.Sequential(\n",
        "            *(n_blocks * [ResBlock_BN(n_chans=n_chans1)]))\n",
        "        self.fc1 = nn.Linear(8 * 8 * n_chans1, 32)\n",
        "        self.fc2 = nn.Linear(32, 10)\n",
        "        \n",
        "    def forward(self, x):\n",
        "        out = F.max_pool2d(torch.relu(self.conv1(x)), 2)\n",
        "        out = self.resblocks(out)\n",
        "        out = F.max_pool2d(out, 2)\n",
        "        out = out.view(-1, 8 * 8 * self.n_chans1)\n",
        "        out = torch.relu(self.fc1(out))\n",
        "        out = self.fc2(out)\n",
        "        return out"
      ],
      "metadata": {
        "id": "Z8dreXyiNOlT"
      },
      "execution_count": null,
      "outputs": []
    },
    {
      "cell_type": "code",
      "source": [
        "model4 = NetResDeep_BN(n_chans1=32, n_blocks=10).to(device=device)\n",
        "optimizer = optim.SGD(model4.parameters(), lr=0.1)\n",
        "loss_fn = nn.CrossEntropyLoss()\n",
        "\n",
        "training_loop(\n",
        "    n_epochs = 300,\n",
        "    optimizer = optimizer,\n",
        "    model = model4,\n",
        "    loss_fn = loss_fn,\n",
        "    train_loader = train_loader,\n",
        ")"
      ],
      "metadata": {
        "id": "Ck661pYYNUVN"
      },
      "execution_count": null,
      "outputs": []
    },
    {
      "cell_type": "code",
      "source": [
        "validate(model4, train_loader, val_loader)"
      ],
      "metadata": {
        "id": "RtLML9r7NWlz"
      },
      "execution_count": null,
      "outputs": []
    }
  ],
  "metadata": {
    "celltoolbar": "Tags",
    "kernelspec": {
      "display_name": "Python 3",
      "language": "python",
      "name": "python3"
    },
    "language_info": {
      "codemirror_mode": {
        "name": "ipython",
        "version": 3
      },
      "file_extension": ".py",
      "mimetype": "text/x-python",
      "name": "python",
      "nbconvert_exporter": "python",
      "pygments_lexer": "ipython3",
      "version": "3.7.6"
    },
    "colab": {
      "name": "HW3_Q2.ipynb",
      "provenance": [],
      "collapsed_sections": []
    },
    "widgets": {
      "application/vnd.jupyter.widget-state+json": {
        "e44deec5a0754411b4393843b2389f6a": {
          "model_module": "@jupyter-widgets/controls",
          "model_name": "HBoxModel",
          "model_module_version": "1.5.0",
          "state": {
            "_dom_classes": [],
            "_model_module": "@jupyter-widgets/controls",
            "_model_module_version": "1.5.0",
            "_model_name": "HBoxModel",
            "_view_count": null,
            "_view_module": "@jupyter-widgets/controls",
            "_view_module_version": "1.5.0",
            "_view_name": "HBoxView",
            "box_style": "",
            "children": [
              "IPY_MODEL_4ff8f0156b1f4186a3805090113cc238",
              "IPY_MODEL_e6500fa3c53246e8ad22f1effb9f484e",
              "IPY_MODEL_2dffdecf36334706ba006171a24fe4b8"
            ],
            "layout": "IPY_MODEL_46a41a059c75417ba2c1d97930f0e855"
          }
        },
        "4ff8f0156b1f4186a3805090113cc238": {
          "model_module": "@jupyter-widgets/controls",
          "model_name": "HTMLModel",
          "model_module_version": "1.5.0",
          "state": {
            "_dom_classes": [],
            "_model_module": "@jupyter-widgets/controls",
            "_model_module_version": "1.5.0",
            "_model_name": "HTMLModel",
            "_view_count": null,
            "_view_module": "@jupyter-widgets/controls",
            "_view_module_version": "1.5.0",
            "_view_name": "HTMLView",
            "description": "",
            "description_tooltip": null,
            "layout": "IPY_MODEL_df30a3d3a0ac46ccbde46c70326abdd4",
            "placeholder": "​",
            "style": "IPY_MODEL_edcf81400ec74aed8854df210bf2e3d7",
            "value": ""
          }
        },
        "e6500fa3c53246e8ad22f1effb9f484e": {
          "model_module": "@jupyter-widgets/controls",
          "model_name": "FloatProgressModel",
          "model_module_version": "1.5.0",
          "state": {
            "_dom_classes": [],
            "_model_module": "@jupyter-widgets/controls",
            "_model_module_version": "1.5.0",
            "_model_name": "FloatProgressModel",
            "_view_count": null,
            "_view_module": "@jupyter-widgets/controls",
            "_view_module_version": "1.5.0",
            "_view_name": "ProgressView",
            "bar_style": "success",
            "description": "",
            "description_tooltip": null,
            "layout": "IPY_MODEL_0080a152b11d4cb3a11a28f0c2abcddf",
            "max": 170498071,
            "min": 0,
            "orientation": "horizontal",
            "style": "IPY_MODEL_8937fcae25a54133a07bf3340146ed0a",
            "value": 170498071
          }
        },
        "2dffdecf36334706ba006171a24fe4b8": {
          "model_module": "@jupyter-widgets/controls",
          "model_name": "HTMLModel",
          "model_module_version": "1.5.0",
          "state": {
            "_dom_classes": [],
            "_model_module": "@jupyter-widgets/controls",
            "_model_module_version": "1.5.0",
            "_model_name": "HTMLModel",
            "_view_count": null,
            "_view_module": "@jupyter-widgets/controls",
            "_view_module_version": "1.5.0",
            "_view_name": "HTMLView",
            "description": "",
            "description_tooltip": null,
            "layout": "IPY_MODEL_46e01f6176a94347808535548e7f35b5",
            "placeholder": "​",
            "style": "IPY_MODEL_cae76f0c432b42ffaf345b0049d0e184",
            "value": " 170499072/? [00:05&lt;00:00, 39428978.54it/s]"
          }
        },
        "46a41a059c75417ba2c1d97930f0e855": {
          "model_module": "@jupyter-widgets/base",
          "model_name": "LayoutModel",
          "model_module_version": "1.2.0",
          "state": {
            "_model_module": "@jupyter-widgets/base",
            "_model_module_version": "1.2.0",
            "_model_name": "LayoutModel",
            "_view_count": null,
            "_view_module": "@jupyter-widgets/base",
            "_view_module_version": "1.2.0",
            "_view_name": "LayoutView",
            "align_content": null,
            "align_items": null,
            "align_self": null,
            "border": null,
            "bottom": null,
            "display": null,
            "flex": null,
            "flex_flow": null,
            "grid_area": null,
            "grid_auto_columns": null,
            "grid_auto_flow": null,
            "grid_auto_rows": null,
            "grid_column": null,
            "grid_gap": null,
            "grid_row": null,
            "grid_template_areas": null,
            "grid_template_columns": null,
            "grid_template_rows": null,
            "height": null,
            "justify_content": null,
            "justify_items": null,
            "left": null,
            "margin": null,
            "max_height": null,
            "max_width": null,
            "min_height": null,
            "min_width": null,
            "object_fit": null,
            "object_position": null,
            "order": null,
            "overflow": null,
            "overflow_x": null,
            "overflow_y": null,
            "padding": null,
            "right": null,
            "top": null,
            "visibility": null,
            "width": null
          }
        },
        "df30a3d3a0ac46ccbde46c70326abdd4": {
          "model_module": "@jupyter-widgets/base",
          "model_name": "LayoutModel",
          "model_module_version": "1.2.0",
          "state": {
            "_model_module": "@jupyter-widgets/base",
            "_model_module_version": "1.2.0",
            "_model_name": "LayoutModel",
            "_view_count": null,
            "_view_module": "@jupyter-widgets/base",
            "_view_module_version": "1.2.0",
            "_view_name": "LayoutView",
            "align_content": null,
            "align_items": null,
            "align_self": null,
            "border": null,
            "bottom": null,
            "display": null,
            "flex": null,
            "flex_flow": null,
            "grid_area": null,
            "grid_auto_columns": null,
            "grid_auto_flow": null,
            "grid_auto_rows": null,
            "grid_column": null,
            "grid_gap": null,
            "grid_row": null,
            "grid_template_areas": null,
            "grid_template_columns": null,
            "grid_template_rows": null,
            "height": null,
            "justify_content": null,
            "justify_items": null,
            "left": null,
            "margin": null,
            "max_height": null,
            "max_width": null,
            "min_height": null,
            "min_width": null,
            "object_fit": null,
            "object_position": null,
            "order": null,
            "overflow": null,
            "overflow_x": null,
            "overflow_y": null,
            "padding": null,
            "right": null,
            "top": null,
            "visibility": null,
            "width": null
          }
        },
        "edcf81400ec74aed8854df210bf2e3d7": {
          "model_module": "@jupyter-widgets/controls",
          "model_name": "DescriptionStyleModel",
          "model_module_version": "1.5.0",
          "state": {
            "_model_module": "@jupyter-widgets/controls",
            "_model_module_version": "1.5.0",
            "_model_name": "DescriptionStyleModel",
            "_view_count": null,
            "_view_module": "@jupyter-widgets/base",
            "_view_module_version": "1.2.0",
            "_view_name": "StyleView",
            "description_width": ""
          }
        },
        "0080a152b11d4cb3a11a28f0c2abcddf": {
          "model_module": "@jupyter-widgets/base",
          "model_name": "LayoutModel",
          "model_module_version": "1.2.0",
          "state": {
            "_model_module": "@jupyter-widgets/base",
            "_model_module_version": "1.2.0",
            "_model_name": "LayoutModel",
            "_view_count": null,
            "_view_module": "@jupyter-widgets/base",
            "_view_module_version": "1.2.0",
            "_view_name": "LayoutView",
            "align_content": null,
            "align_items": null,
            "align_self": null,
            "border": null,
            "bottom": null,
            "display": null,
            "flex": null,
            "flex_flow": null,
            "grid_area": null,
            "grid_auto_columns": null,
            "grid_auto_flow": null,
            "grid_auto_rows": null,
            "grid_column": null,
            "grid_gap": null,
            "grid_row": null,
            "grid_template_areas": null,
            "grid_template_columns": null,
            "grid_template_rows": null,
            "height": null,
            "justify_content": null,
            "justify_items": null,
            "left": null,
            "margin": null,
            "max_height": null,
            "max_width": null,
            "min_height": null,
            "min_width": null,
            "object_fit": null,
            "object_position": null,
            "order": null,
            "overflow": null,
            "overflow_x": null,
            "overflow_y": null,
            "padding": null,
            "right": null,
            "top": null,
            "visibility": null,
            "width": null
          }
        },
        "8937fcae25a54133a07bf3340146ed0a": {
          "model_module": "@jupyter-widgets/controls",
          "model_name": "ProgressStyleModel",
          "model_module_version": "1.5.0",
          "state": {
            "_model_module": "@jupyter-widgets/controls",
            "_model_module_version": "1.5.0",
            "_model_name": "ProgressStyleModel",
            "_view_count": null,
            "_view_module": "@jupyter-widgets/base",
            "_view_module_version": "1.2.0",
            "_view_name": "StyleView",
            "bar_color": null,
            "description_width": ""
          }
        },
        "46e01f6176a94347808535548e7f35b5": {
          "model_module": "@jupyter-widgets/base",
          "model_name": "LayoutModel",
          "model_module_version": "1.2.0",
          "state": {
            "_model_module": "@jupyter-widgets/base",
            "_model_module_version": "1.2.0",
            "_model_name": "LayoutModel",
            "_view_count": null,
            "_view_module": "@jupyter-widgets/base",
            "_view_module_version": "1.2.0",
            "_view_name": "LayoutView",
            "align_content": null,
            "align_items": null,
            "align_self": null,
            "border": null,
            "bottom": null,
            "display": null,
            "flex": null,
            "flex_flow": null,
            "grid_area": null,
            "grid_auto_columns": null,
            "grid_auto_flow": null,
            "grid_auto_rows": null,
            "grid_column": null,
            "grid_gap": null,
            "grid_row": null,
            "grid_template_areas": null,
            "grid_template_columns": null,
            "grid_template_rows": null,
            "height": null,
            "justify_content": null,
            "justify_items": null,
            "left": null,
            "margin": null,
            "max_height": null,
            "max_width": null,
            "min_height": null,
            "min_width": null,
            "object_fit": null,
            "object_position": null,
            "order": null,
            "overflow": null,
            "overflow_x": null,
            "overflow_y": null,
            "padding": null,
            "right": null,
            "top": null,
            "visibility": null,
            "width": null
          }
        },
        "cae76f0c432b42ffaf345b0049d0e184": {
          "model_module": "@jupyter-widgets/controls",
          "model_name": "DescriptionStyleModel",
          "model_module_version": "1.5.0",
          "state": {
            "_model_module": "@jupyter-widgets/controls",
            "_model_module_version": "1.5.0",
            "_model_name": "DescriptionStyleModel",
            "_view_count": null,
            "_view_module": "@jupyter-widgets/base",
            "_view_module_version": "1.2.0",
            "_view_name": "StyleView",
            "description_width": ""
          }
        }
      }
    }
  },
  "nbformat": 4,
  "nbformat_minor": 0
}